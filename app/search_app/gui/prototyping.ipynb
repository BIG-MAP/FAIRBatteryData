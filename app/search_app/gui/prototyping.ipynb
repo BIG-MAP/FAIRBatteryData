{
 "cells": [
  {
   "cell_type": "code",
   "execution_count": 1,
   "metadata": {},
   "outputs": [],
   "source": [
    "from rdflib import Graph, SKOS, Literal, URIRef, RDF\n",
    "import pandas as pd\n",
    "import utils\n",
    "import pickle"
   ]
  },
  {
   "cell_type": "code",
   "execution_count": 2,
   "metadata": {},
   "outputs": [],
   "source": [
    "rdf_all_graphs, label_uri_dict, uri_label_dict = utils.load_resources()\n"
   ]
  },
  {
   "cell_type": "code",
   "execution_count": 3,
   "metadata": {},
   "outputs": [
    {
     "data": {
      "text/plain": [
       "[(rdflib.term.Literal('Eibar'),\n",
       "  rdflib.term.Literal('Flores'),\n",
       "  rdflib.term.Literal('eibar.flores.cedeno@sintef.no'))]"
      ]
     },
     "execution_count": 3,
     "metadata": {},
     "output_type": "execute_result"
    }
   ],
   "source": [
    "PREFIXES = \"\"\"\n",
    "PREFIX owl: <http://www.w3.org/2002/07/owl#>\n",
    "PREFIX emmo: <http://emmo.info/emmo#>\n",
    "PREFIX rdfs: <http://www.w3.org/2000/01/rdf-schema#>\n",
    "PREFIX echem: <http://emmo.info/electrochemistry#>\n",
    "PREFIX rdf: <http://www.w3.org/1999/02/22-rdf-syntax-ns#>\n",
    "PREFIX dc: <http://purl.org/dc/elements/1.1/> \n",
    "PREFIX battery: <http://emmo.info/battery#> \n",
    "PREFIX schema:<https://schema.org/>\n",
    "\"\"\"\n",
    "\n",
    "orcid = \"https://orcid.org/0000-0003-2954-1233\"\n",
    "\n",
    "query2 = PREFIXES  + f\"\"\"\n",
    "SELECT ?givenName ?familyName ?email\n",
    "\n",
    "WHERE {{\n",
    "    <{orcid}> schema:familyName ?familyName;\n",
    "            schema:givenName ?givenName;\n",
    "            schema:email ?email.\n",
    "}}\n",
    "\"\"\"\n",
    "qres = rdf_all_graphs.query(query2)\n",
    "list(qres)"
   ]
  },
  {
   "cell_type": "code",
   "execution_count": 4,
   "metadata": {},
   "outputs": [],
   "source": [
    "utils.pickle_resources()"
   ]
  },
  {
   "cell_type": "code",
   "execution_count": 8,
   "metadata": {},
   "outputs": [
    {
     "data": {
      "text/plain": [
       "['2023-05-02']"
      ]
     },
     "execution_count": 8,
     "metadata": {},
     "output_type": "execute_result"
    }
   ],
   "source": [
    "utils.query_all_schemas(rdf_all_graphs, uri_label_dict, schema_type=\"productionDate\")"
   ]
  },
  {
   "cell_type": "code",
   "execution_count": 4,
   "metadata": {},
   "outputs": [
    {
     "data": {
      "text/plain": [
       "{'LithiumNickelManganeseCobaltOxide': 'http://emmo.info/emmo#EMMO_4950a41c_ae32_4ce9_9db9_0076bbcac18f',\n",
       " 'CarboxymethylCellulose': 'http://emmo.info/emmo#EMMO_5805174a_71da_4263_b4d4_c2868cceeef7',\n",
       " 'Graphite': 'http://emmo.info/emmo#EMMO_5dd27e7d_c38f_4a81_8d09_d81463806ad7',\n",
       " 'PolyvinylFluoride': 'http://emmo.info/emmo#EMMO_6c03b6b7_a50e_4575_9708_0d4f18a3c358'}"
      ]
     },
     "execution_count": 4,
     "metadata": {},
     "output_type": "execute_result"
    }
   ],
   "source": [
    "utils.query_all_materials(rdf_all_graphs, uri_label_dict)"
   ]
  },
  {
   "cell_type": "code",
   "execution_count": 16,
   "metadata": {},
   "outputs": [
    {
     "name": "stdout",
     "output_type": "stream",
     "text": [
      "http://emmo.info/emmo#EMMO_5dd27e7d_c38f_4a81_8d09_d81463806ad7\n"
     ]
    },
    {
     "data": {
      "text/html": [
       "<div>\n",
       "<style scoped>\n",
       "    .dataframe tbody tr th:only-of-type {\n",
       "        vertical-align: middle;\n",
       "    }\n",
       "\n",
       "    .dataframe tbody tr th {\n",
       "        vertical-align: top;\n",
       "    }\n",
       "\n",
       "    .dataframe thead th {\n",
       "        text-align: right;\n",
       "    }\n",
       "</style>\n",
       "<table border=\"1\" class=\"dataframe\">\n",
       "  <thead>\n",
       "    <tr style=\"text-align: right;\">\n",
       "      <th></th>\n",
       "      <th>CellID</th>\n",
       "      <th>Cell name</th>\n",
       "      <th>Creator</th>\n",
       "      <th>Date</th>\n",
       "      <th>Material</th>\n",
       "    </tr>\n",
       "  </thead>\n",
       "  <tbody>\n",
       "    <tr>\n",
       "      <th>0</th>\n",
       "      <td>http://rdf.batterymodel.com/96a8c962-cf63-40bf...</td>\n",
       "      <td>NMC Graphice cell with CMC</td>\n",
       "      <td>https://orcid.org/0000-0002-8758-6109</td>\n",
       "      <td>2023-05-02</td>\n",
       "      <td>Graphite</td>\n",
       "    </tr>\n",
       "  </tbody>\n",
       "</table>\n",
       "</div>"
      ],
      "text/plain": [
       "                                              CellID   \n",
       "0  http://rdf.batterymodel.com/96a8c962-cf63-40bf...  \\\n",
       "\n",
       "                    Cell name                                Creator   \n",
       "0  NMC Graphice cell with CMC  https://orcid.org/0000-0002-8758-6109  \\\n",
       "\n",
       "         Date  Material  \n",
       "0  2023-05-02  Graphite  "
      ]
     },
     "execution_count": 16,
     "metadata": {},
     "output_type": "execute_result"
    }
   ],
   "source": [
    "PREFIXES = \"\"\"\n",
    "PREFIX owl: <http://www.w3.org/2002/07/owl#>\n",
    "PREFIX emmo: <http://emmo.info/emmo#>\n",
    "PREFIX rdfs: <http://www.w3.org/2000/01/rdf-schema#>\n",
    "PREFIX echem: <http://emmo.info/electrochemistry#>\n",
    "PREFIX rdf: <http://www.w3.org/1999/02/22-rdf-syntax-ns#>\n",
    "PREFIX dc: <http://purl.org/dc/elements/1.1/> \n",
    "PREFIX battery: <http://emmo.info/battery#> \n",
    "PREFIX schema:<https://schema.org/>\n",
    "\"\"\"\n",
    "\n",
    "\n",
    "def query_cell_by_material(rdf_graph:Graph, label_uri_dict:dict, uri_label_dict:dict, material_label:str)->pd.DataFrame:\n",
    "\n",
    "    material_iri = URIRef(label_uri_dict[material_label])\n",
    "    print(material_iri)\n",
    "\n",
    "    query_by_material = PREFIXES  + \"\"\"\n",
    "    SELECT ?instance ?name ?creator ?date\n",
    "    WHERE {{\n",
    "    ?instance rdf:type battery:battery_68ed592a_7924_45d0_a108_94d6275d57f0;\n",
    "              schema:creator ?creator;\n",
    "              schema:name ?name;\n",
    "              schema:productionDate ?date;\n",
    "              (echem:electrochemistry_8e9cf965_9f92_46e8_b678_b50410ce3616|echem:electrochemistry_5d299271_3f68_494f_ab96_3db9acdd3138) ?something.\n",
    "\n",
    "    ?something (emmo:EMMO_dba27ca1_33c9_4443_a912_1519ce4c39ec)+ ?material.\n",
    "    ?material rdf:type <%s>.\n",
    "\n",
    "    }}\n",
    "    \"\"\"% material_iri    \n",
    "\n",
    "    results_dict = {\"CellID\":[], \"Cell name\":[], \"Creator\":[], \"Date\":[], \"Material\":[]}\n",
    "\n",
    "    qres = rdf_graph.query(query_by_material)\n",
    "    for hit in qres:\n",
    "        string_rep = [str(rdf_obj) for rdf_obj in hit]\n",
    "        human_rep = [uri_label_dict[string] if string in uri_label_dict else string for string in string_rep]\n",
    "        results_dict[\"CellID\"].append(human_rep[0])\n",
    "        results_dict[\"Cell name\"].append(human_rep[1])\n",
    "        results_dict[\"Creator\"].append(human_rep[2])\n",
    "        results_dict[\"Date\"].append(human_rep[3])\n",
    "        results_dict[\"Material\"].append(material_label)\n",
    "    \n",
    "    return pd.DataFrame(results_dict)\n",
    "\n",
    "\n",
    "\n",
    "results_df = query_cell_by_material(rdf_all_graphs, label_uri_dict, uri_label_dict, material_label=\"Graphite\")\n",
    "results_df"
   ]
  },
  {
   "cell_type": "code",
   "execution_count": 34,
   "metadata": {},
   "outputs": [
    {
     "data": {
      "text/plain": [
       "rdflib.term.URIRef('http://emmo.info/emmo#EMMO_5dd27e7d_c38f_4a81_8d09_d81463806ad7')"
      ]
     },
     "execution_count": 34,
     "metadata": {},
     "output_type": "execute_result"
    }
   ],
   "source": [
    "material_iri = URIRef(label_uri_dict[\"Graphite\"])\n",
    "material_iri "
   ]
  },
  {
   "cell_type": "code",
   "execution_count": null,
   "metadata": {},
   "outputs": [],
   "source": []
  }
 ],
 "metadata": {
  "kernelspec": {
   "display_name": "venv-ontoapps",
   "language": "python",
   "name": "python3"
  },
  "language_info": {
   "codemirror_mode": {
    "name": "ipython",
    "version": 3
   },
   "file_extension": ".py",
   "mimetype": "text/x-python",
   "name": "python",
   "nbconvert_exporter": "python",
   "pygments_lexer": "ipython3",
   "version": "3.10.6"
  },
  "orig_nbformat": 4
 },
 "nbformat": 4,
 "nbformat_minor": 2
}
