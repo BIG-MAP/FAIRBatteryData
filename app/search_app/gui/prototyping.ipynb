{
 "cells": [
  {
   "cell_type": "code",
   "execution_count": 1,
   "metadata": {},
   "outputs": [],
   "source": [
    "from rdflib import Graph, SKOS, Literal, URIRef, RDF\n",
    "import utils\n",
    "import warnings"
   ]
  },
  {
   "cell_type": "code",
   "execution_count": 2,
   "metadata": {},
   "outputs": [],
   "source": [
    "ontologies, label_uri_dict, uri_label_dict = utils.load_ontologies()\n",
    "g_metadata = Graph().parse(\"../ontologies/scientific_metadata.json\")"
   ]
  },
  {
   "cell_type": "code",
   "execution_count": 3,
   "metadata": {},
   "outputs": [
    {
     "data": {
      "text/plain": [
       "{'BatteryCell': 'http://emmo.info/battery#battery_68ed592a_7924_45d0_a108_94d6275d57f0',\n",
       " 'Mass': 'http://emmo.info/emmo#EMMO_ed4af7ae_63a2_497e_bb88_2309619ea405',\n",
       " 'Real': 'http://emmo.info/emmo#EMMO_18d180e4_5e3e_42f7_820c_e08951223486',\n",
       " 'Width': 'http://emmo.info/emmo#EMMO_e4de48b1_dabb_4490_ac2b_040f926c64f0',\n",
       " 'Height': 'http://emmo.info/emmo#EMMO_08bcf1d6_e719_46c8_bb21_24bc9bf34dba',\n",
       " 'Thickness': 'http://emmo.info/emmo#EMMO_43003c86_9d15_433b_9789_ee2940920656',\n",
       " 'PositiveElectrode': 'http://emmo.info/electrochemistry#electrochemistry_aff732a9_238a_4734_977c_b2ba202af126',\n",
       " 'NumberOfEntities': 'http://emmo.info/emmo#EMMO_41efdf5d_0c9c_4ea0_bb65_f8236e663be5',\n",
       " 'CurrentCollector': 'http://emmo.info/electrochemistry#electrochemistry_212af058_3bbb_419f_a9c6_90ba9ebb3706',\n",
       " 'PorousElectrodeCoating': 'http://emmo.info/electrochemistry#electrochemistry_403c300e_09b9_400b_943b_04e82a3cfb56',\n",
       " 'MassFraction': 'http://emmo.info/emmo#EMMO_7c055d65_2929_40e1_af4f_4bf10995ad50',\n",
       " 'Density': 'http://emmo.info/emmo#EMMO_06448f64_8db6_4304_8b2c_e785dba82044',\n",
       " 'SpecificCapacity': 'http://emmo.info/electrochemistry#electrochemistry_1e3dc60d_dd6b_47d6_8161_70004fc5ee30',\n",
       " 'Separator': 'http://emmo.info/electrochemistry#electrochemistry_331e6cca_f260_4bf8_af55_35304fe1bbe0',\n",
       " 'Porosity': 'http://emmo.info/emmo#EMMO_3a6578ac_aee0_43b9_9bc6_1eb208c8c9a9',\n",
       " 'ElectrolyteSolution': 'http://emmo.info/electrochemistry#electrochemistry_fa22874b_76a9_4043_8b8f_6086c88746de',\n",
       " 'Volume': 'http://emmo.info/emmo#EMMO_f1a51559_aa3d_43a0_9327_918039f0dfed',\n",
       " 'ChemicalMaterial': 'http://emmo.info/emmo#EMMO_8a41ed1b_64f9_4be7_9b60_01fcece45075',\n",
       " 'AmountConcentration': 'http://emmo.info/emmo#EMMO_d5be1faf_0c56_4f5a_9b78_581e6dee949f'}"
      ]
     },
     "execution_count": 3,
     "metadata": {},
     "output_type": "execute_result"
    }
   ],
   "source": [
    "dict_types = utils.get_all_ld_types()\n",
    "dict_types "
   ]
  },
  {
   "cell_type": "code",
   "execution_count": 4,
   "metadata": {},
   "outputs": [
    {
     "name": "stderr",
     "output_type": "stream",
     "text": [
      "c:\\Users\\eibarc\\OneDrive - SINTEF\\Documents\\Project BIGMAP\\Repos\\temp\\gui\\utils.py:28: UserWarning: The supplied IRI http://emmo.info/emmo#EMMO_4950a41c_ae32_4ce9_9db9_0076bbcac18f has 0 prefLabels: []\n",
      "  warnings.warn(f\"\"\"The supplied IRI {iri} has {len(list(prefLabel))} prefLabels: {list(prefLabel)}\"\"\")\n"
     ]
    },
    {
     "data": {
      "text/plain": [
       "''"
      ]
     },
     "execution_count": 4,
     "metadata": {},
     "output_type": "execute_result"
    }
   ],
   "source": [
    "utils.iri_to_preflabel(rdf_graph=ontologies, iri=\"http://emmo.info/emmo#EMMO_4950a41c_ae32_4ce9_9db9_0076bbcac18f\")"
   ]
  },
  {
   "cell_type": "code",
   "execution_count": 3,
   "metadata": {},
   "outputs": [
    {
     "data": {
      "text/plain": [
       "'https://big-map.github.io/BattINFO/ontology/electrochemistry#EMMO_b6319c74_d2ce_48c0_a75a_63156776b302'"
      ]
     },
     "execution_count": 3,
     "metadata": {},
     "output_type": "execute_result"
    }
   ],
   "source": [
    "utils.preflabel_to_iri(rdf_graph=g, prefLabel=\"Anode\", lang=\"en\")"
   ]
  },
  {
   "cell_type": "code",
   "execution_count": 3,
   "metadata": {},
   "outputs": [
    {
     "data": {
      "text/plain": [
       "{'BatteryCell': 'http://emmo.info/battery#battery_68ed592a_7924_45d0_a108_94d6275d57f0',\n",
       " 'Mass': 'http://emmo.info/emmo#EMMO_ed4af7ae_63a2_497e_bb88_2309619ea405',\n",
       " 'Real': 'http://emmo.info/emmo#EMMO_18d180e4_5e3e_42f7_820c_e08951223486',\n",
       " 'Width': 'http://emmo.info/emmo#EMMO_e4de48b1_dabb_4490_ac2b_040f926c64f0',\n",
       " 'Height': 'http://emmo.info/emmo#EMMO_08bcf1d6_e719_46c8_bb21_24bc9bf34dba',\n",
       " 'Thickness': 'http://emmo.info/emmo#EMMO_43003c86_9d15_433b_9789_ee2940920656',\n",
       " 'PositiveElectrode': 'http://emmo.info/electrochemistry#electrochemistry_aff732a9_238a_4734_977c_b2ba202af126',\n",
       " 'NumberOfEntities': 'http://emmo.info/emmo#EMMO_41efdf5d_0c9c_4ea0_bb65_f8236e663be5',\n",
       " 'CurrentCollector': 'http://emmo.info/electrochemistry#electrochemistry_212af058_3bbb_419f_a9c6_90ba9ebb3706',\n",
       " 'PorousElectrodeCoating': 'http://emmo.info/electrochemistry#electrochemistry_403c300e_09b9_400b_943b_04e82a3cfb56',\n",
       " 'MassFraction': 'http://emmo.info/emmo#EMMO_7c055d65_2929_40e1_af4f_4bf10995ad50',\n",
       " 'Density': 'http://emmo.info/emmo#EMMO_06448f64_8db6_4304_8b2c_e785dba82044',\n",
       " 'SpecificCapacity': 'http://emmo.info/electrochemistry#electrochemistry_1e3dc60d_dd6b_47d6_8161_70004fc5ee30',\n",
       " 'Separator': 'http://emmo.info/electrochemistry#electrochemistry_331e6cca_f260_4bf8_af55_35304fe1bbe0',\n",
       " 'Porosity': 'http://emmo.info/emmo#EMMO_3a6578ac_aee0_43b9_9bc6_1eb208c8c9a9',\n",
       " 'ElectrolyteSolution': 'http://emmo.info/electrochemistry#electrochemistry_fa22874b_76a9_4043_8b8f_6086c88746de',\n",
       " 'Volume': 'http://emmo.info/emmo#EMMO_f1a51559_aa3d_43a0_9327_918039f0dfed',\n",
       " 'ChemicalMaterial': 'http://emmo.info/emmo#EMMO_8a41ed1b_64f9_4be7_9b60_01fcece45075',\n",
       " 'AmountConcentration': 'http://emmo.info/emmo#EMMO_d5be1faf_0c56_4f5a_9b78_581e6dee949f'}"
      ]
     },
     "execution_count": 3,
     "metadata": {},
     "output_type": "execute_result"
    }
   ],
   "source": [
    "utils.all_types(iri_label_dict=uri_label_dict, metadata_graph = g_metadata)"
   ]
  },
  {
   "cell_type": "code",
   "execution_count": 7,
   "metadata": {},
   "outputs": [
    {
     "data": {
      "text/plain": [
       "{'http://emmo.info/electrochemistry#electrochemistry_403c300e_09b9_400b_943b_04e82a3cfb56': 'PorousElectrodeCoating',\n",
       " 'http://emmo.info/emmo#EMMO_d5be1faf_0c56_4f5a_9b78_581e6dee949f': 'AmountConcentration',\n",
       " 'http://emmo.info/emmo#EMMO_43003c86_9d15_433b_9789_ee2940920656': 'Thickness',\n",
       " 'http://emmo.info/emmo#EMMO_06448f64_8db6_4304_8b2c_e785dba82044': 'Density',\n",
       " 'http://emmo.info/emmo#EMMO_41efdf5d_0c9c_4ea0_bb65_f8236e663be5': 'NumberOfEntities',\n",
       " 'http://emmo.info/battery#battery_68ed592a_7924_45d0_a108_94d6275d57f0': 'BatteryCell',\n",
       " 'http://emmo.info/electrochemistry#electrochemistry_1e3dc60d_dd6b_47d6_8161_70004fc5ee30': 'SpecificCapacity',\n",
       " 'http://emmo.info/emmo#EMMO_e4de48b1_dabb_4490_ac2b_040f926c64f0': 'Width',\n",
       " 'http://emmo.info/emmo#EMMO_18d180e4_5e3e_42f7_820c_e08951223486': 'Real',\n",
       " 'http://emmo.info/electrochemistry#electrochemistry_212af058_3bbb_419f_a9c6_90ba9ebb3706': 'CurrentCollector',\n",
       " 'http://emmo.info/electrochemistry#electrochemistry_331e6cca_f260_4bf8_af55_35304fe1bbe0': 'Separator',\n",
       " 'http://emmo.info/electrochemistry#electrochemistry_fa22874b_76a9_4043_8b8f_6086c88746de': 'ElectrolyteSolution',\n",
       " 'http://emmo.info/electrochemistry#electrochemistry_aff732a9_238a_4734_977c_b2ba202af126': 'PositiveElectrode',\n",
       " 'http://emmo.info/emmo#EMMO_ed4af7ae_63a2_497e_bb88_2309619ea405': 'Mass',\n",
       " 'http://emmo.info/emmo#EMMO_3a6578ac_aee0_43b9_9bc6_1eb208c8c9a9': 'Porosity',\n",
       " 'http://emmo.info/emmo#EMMO_f1a51559_aa3d_43a0_9327_918039f0dfed': 'Volume',\n",
       " 'http://emmo.info/emmo#EMMO_8a41ed1b_64f9_4be7_9b60_01fcece45075': 'ChemicalMaterial',\n",
       " 'http://emmo.info/emmo#EMMO_08bcf1d6_e719_46c8_bb21_24bc9bf34dba': 'Height',\n",
       " 'http://emmo.info/emmo#EMMO_7c055d65_2929_40e1_af4f_4bf10995ad50': 'MassFraction'}"
      ]
     },
     "execution_count": 7,
     "metadata": {},
     "output_type": "execute_result"
    }
   ],
   "source": [
    "type_iri_labels_dict = {iri:uri_label_dict[iri] for iri in utils.all_types(rdf_graph=g_metadata) if iri in uri_label_dict}\n",
    "type_iri_labels_dict"
   ]
  },
  {
   "cell_type": "code",
   "execution_count": 8,
   "metadata": {},
   "outputs": [
    {
     "name": "stdout",
     "output_type": "stream",
     "text": [
      "https://big-map.github.io/BattINFO/ontology/electrochemistry#EMMO_35c650ab_3b23_4938_b312_1b0dede2e6d5 http://www.w3.org/2002/07/owl#disjointWith\n",
      "nb65a59ebafcc4d499133876239b442ccb1086 http://www.w3.org/2002/07/owl#annotatedSource\n"
     ]
    }
   ],
   "source": [
    "for subj, pred in g.subject_predicates(object=URIRef(\"https://big-map.github.io/BattINFO/ontology/electrochemistry#EMMO_b6319c74_d2ce_48c0_a75a_63156776b302\")):\n",
    "    print(subj, pred)"
   ]
  }
 ],
 "metadata": {
  "kernelspec": {
   "display_name": "venv-ontoapps",
   "language": "python",
   "name": "python3"
  },
  "language_info": {
   "codemirror_mode": {
    "name": "ipython",
    "version": 3
   },
   "file_extension": ".py",
   "mimetype": "text/x-python",
   "name": "python",
   "nbconvert_exporter": "python",
   "pygments_lexer": "ipython3",
   "version": "3.10.6"
  },
  "orig_nbformat": 4
 },
 "nbformat": 4,
 "nbformat_minor": 2
}
