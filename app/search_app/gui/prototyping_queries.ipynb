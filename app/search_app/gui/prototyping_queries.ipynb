{
 "cells": [
  {
   "cell_type": "code",
   "execution_count": 1,
   "metadata": {},
   "outputs": [],
   "source": [
    "import query_examples as qe\n",
    "import utils\n",
    "import pandas as pd\n",
    "from rdflib import Graph, URIRef\n",
    "from rdflib.parser import Parser\n",
    "\n"
   ]
  },
  {
   "cell_type": "code",
   "execution_count": 2,
   "metadata": {},
   "outputs": [],
   "source": [
    "rdf_graph, label_uri_dict, uri_label_dict = utils.unpickle_resources()"
   ]
  },
  {
   "cell_type": "code",
   "execution_count": 3,
   "metadata": {},
   "outputs": [],
   "source": [
    "PREFIXES = \"\"\"\n",
    "PREFIX owl: <http://www.w3.org/2002/07/owl#>\n",
    "PREFIX emmo: <http://emmo.info/emmo#>\n",
    "PREFIX rdfs: <http://www.w3.org/2000/01/rdf-schema#>\n",
    "PREFIX echem: <http://emmo.info/electrochemistry#>\n",
    "PREFIX rdf: <http://www.w3.org/1999/02/22-rdf-syntax-ns#>\n",
    "PREFIX dc: <http://purl.org/dc/elements/1.1/> \n",
    "PREFIX battery: <http://emmo.info/battery#> \n",
    "PREFIX schema:<https://schema.org/>\n",
    "\"\"\"\n"
   ]
  },
  {
   "attachments": {},
   "cell_type": "markdown",
   "metadata": {},
   "source": [
    "## Search names by ORCID"
   ]
  },
  {
   "cell_type": "code",
   "execution_count": 5,
   "metadata": {},
   "outputs": [
    {
     "data": {
      "text/plain": [
       "[(rdflib.term.Literal('Eibar'),\n",
       "  rdflib.term.Literal('Flores'),\n",
       "  rdflib.term.Literal('eibar.flores.cedeno@sintef.no'))]"
      ]
     },
     "execution_count": 5,
     "metadata": {},
     "output_type": "execute_result"
    }
   ],
   "source": [
    "orcid = \"https://orcid.org/0000-0003-2954-1233\"\n",
    "\n",
    "query2 = PREFIXES  + f\"\"\"\n",
    "SELECT ?givenName ?familyName ?email\n",
    "\n",
    "WHERE {{\n",
    "    <{orcid}> schema:familyName ?familyName;\n",
    "            schema:givenName ?givenName;\n",
    "            schema:email ?email.\n",
    "}}\n",
    "\"\"\"\n",
    "qres = rdf_graph.query(query2)\n",
    "list(qres)\n"
   ]
  },
  {
   "attachments": {},
   "cell_type": "markdown",
   "metadata": {},
   "source": [
    "## Search expert by name"
   ]
  },
  {
   "attachments": {},
   "cell_type": "markdown",
   "metadata": {},
   "source": [
    "## Search all organizations"
   ]
  },
  {
   "cell_type": "code",
   "execution_count": 7,
   "metadata": {},
   "outputs": [
    {
     "name": "stdout",
     "output_type": "stream",
     "text": [
      "{'National Research Council': 'https://ror.org/04zaypm56', 'Paul Scherrer Institute': 'https://ror.org/03eh3y714', 'Karlsruhe Institute of Technology': 'https://ror.org/04t3en479', 'The Foundation for Industrial and Technical Research': 'https://ror.org/01f677e56', 'European Synchotron Radiation Facility': 'https://ror.org/02550n020', 'French Alternative Energies and Atomic Energy Commission': 'https://ror.org/00jjx8s55', 'Fraunhofer Society': 'https://ror.org/05hkkdn48', 'French national synchrotron facility': 'https://ror.org/01ydb3330', 'National Institute of Chemistry': 'https://ror.org/050mac570', 'Spanish National Research Council': 'https://ror.org/02gfc7t72', 'French National Centre for Scientific Research': 'https://ror.org/02feahw73', 'Institut Laue?Langevin': 'https://ror.org/01xtjs520', 'CIDETEC Foundation': 'https://ror.org/03vgz7r63', 'Research Centre Julich': 'https://ror.org/02nv7yv05'}\n"
     ]
    }
   ],
   "source": [
    "query4 = PREFIXES  + f\"\"\"\n",
    "SELECT ?name ?id\n",
    "\n",
    "WHERE {{\n",
    "    ?id rdf:type schema:ResearchOrganization;\n",
    "                schema:name ?name;\n",
    "}}\n",
    "\"\"\"\n",
    "qres = rdf_graph.query(query4)\n",
    "\n",
    "\n",
    "experts = {}\n",
    "for result in qres:\n",
    "    name_str = str(result[0])\n",
    "    iri = str(result[1])\n",
    "    experts[name_str] = iri\n",
    "\n",
    "print(experts)"
   ]
  },
  {
   "attachments": {},
   "cell_type": "markdown",
   "metadata": {},
   "source": [
    "## Search all cells"
   ]
  },
  {
   "cell_type": "code",
   "execution_count": 5,
   "metadata": {},
   "outputs": [
    {
     "name": "stdout",
     "output_type": "stream",
     "text": [
      "[(rdflib.term.URIRef('http://rdf.batterymodel.com/96a8c962-cf63-40bf-a6c0-15f7b078e3e3'), rdflib.term.URIRef('https://orcid.org/0000-0002-8758-6109')), (rdflib.term.URIRef('http://rdf.batterymodel.com/b1bf0006-8006-4367-9625-ca869fed1684'), rdflib.term.URIRef('https://orcid.org/0000-0002-8758-6109')), (rdflib.term.URIRef('http://rdf.batterymodel.com/ed930bda-c2b6-4ade-b5cd-4d3102002edc'), rdflib.term.URIRef('https://orcid.org/0000-0003-2954-1233')), (rdflib.term.URIRef('http://rdf.batterymodel.com/ce40ac3a-6ef4-47ab-bfa4-d30e5c2fa39b'), rdflib.term.URIRef('https://orcid.org/0000-0002-8758-6109')), (rdflib.term.URIRef('http://rdf.batterymodel.com/6f1216b8-8b52-4340-ac12-f8effe4be910'), rdflib.term.URIRef('https://orcid.org/0000-0003-2954-1233'))]\n"
     ]
    }
   ],
   "source": [
    "query5 = PREFIXES  + f\"\"\"\n",
    "SELECT ?instance ?creator\n",
    "WHERE {{\n",
    "    ?instance rdf:type/rdfs:subClassOf* <http://emmo.info/battery#battery_68ed592a_7924_45d0_a108_94d6275d57f0>;\n",
    "                schema:creator ?creator\n",
    "    }}\n",
    "\"\"\"\n",
    "qres = rdf_graph.query(query5)\n",
    "print(list(qres))"
   ]
  },
  {
   "cell_type": "code",
   "execution_count": 11,
   "metadata": {},
   "outputs": [
    {
     "name": "stdout",
     "output_type": "stream",
     "text": [
      "[(rdflib.term.URIRef('http://rdf.batterymodel.com/96a8c962-cf63-40bf-a6c0-15f7b078e3e3'), rdflib.term.URIRef('https://orcid.org/0000-0002-8758-6109'))]\n"
     ]
    }
   ],
   "source": [
    "query5 = PREFIXES  + f\"\"\"\n",
    "SELECT ?instance ?creator\n",
    "WHERE {{\n",
    "    ?instance schema:creator ?creator\n",
    "    }}\n",
    "\"\"\"\n",
    "qres = rdf_graph.query(query5)\n",
    "print(list(qres))"
   ]
  },
  {
   "attachments": {},
   "cell_type": "markdown",
   "metadata": {},
   "source": [
    "## Search all cells by expert orcid"
   ]
  },
  {
   "cell_type": "code",
   "execution_count": 53,
   "metadata": {},
   "outputs": [
    {
     "name": "stdout",
     "output_type": "stream",
     "text": [
      "{'CellID': ['http://rdf.batterymodel.com/96a8c962-cf63-40bf-a6c0-15f7b078e3e3'], 'Researcher': ['SimonClark'], 'Email': ['simon.clark@sintef.no'], 'Date': ['2023-05-02']}\n"
     ]
    }
   ],
   "source": [
    "orcid = URIRef(\"https://orcid.org/0000-0002-8758-6109\")\n",
    "\n",
    "query5 = PREFIXES  + f\"\"\"\n",
    "SELECT ?instance ?givenName ?familyName ?email ?date\n",
    "WHERE {{\n",
    "    ?instance rdf:type battery:battery_68ed592a_7924_45d0_a108_94d6275d57f0;\n",
    "        schema:creator <{orcid}>;\n",
    "        schema:productionDate ?date.\n",
    "    <{orcid}>   schema:familyName ?familyName;\n",
    "                schema:givenName ?givenName;\n",
    "                schema:email ?email.\n",
    "\n",
    "    }}\n",
    "\"\"\"\n",
    "qres = rdf_graph.query(query5)\n",
    "results_dict = {\"CellID\":[], \"Researcher\":[], \"Email\":[], \"Date\":[]}\n",
    "\n",
    "for hit in qres:\n",
    "        string_rep = [str(rdf_obj) for rdf_obj in hit]\n",
    "        results_dict[\"CellID\"].append(string_rep[0])\n",
    "        results_dict[\"Researcher\"].append(string_rep[1]+string_rep[2])\n",
    "        results_dict[\"Email\"].append(string_rep[3])\n",
    "        results_dict[\"Date\"].append(string_rep[4])\n",
    "\n",
    "print(results_dict)\n",
    "\n"
   ]
  },
  {
   "attachments": {},
   "cell_type": "markdown",
   "metadata": {},
   "source": [
    "## Search all cells by organization ROR"
   ]
  },
  {
   "cell_type": "code",
   "execution_count": 54,
   "metadata": {},
   "outputs": [
    {
     "name": "stdout",
     "output_type": "stream",
     "text": [
      "{'CellID': ['http://rdf.batterymodel.com/96a8c962-cf63-40bf-a6c0-15f7b078e3e3'], 'Organization': ['The Foundation for Industrial and Technical Research'], 'Date': ['2023-05-02'], 'ResearcherID': ['https://orcid.org/0000-0002-8758-6109']}\n"
     ]
    }
   ],
   "source": [
    "ror = \"https://ror.org/01f677e56\"\n",
    "\n",
    "query5 = PREFIXES  + f\"\"\"\n",
    "SELECT ?instance ?name ?date ?personID\n",
    "WHERE {{\n",
    "    ?instance rdf:type battery:battery_68ed592a_7924_45d0_a108_94d6275d57f0;\n",
    "        schema:manufacturer <{ror}>;\n",
    "        schema:creator ?personID;\n",
    "        schema:productionDate ?date.\n",
    "    <{ror}>  schema:name ?name;\n",
    "\n",
    "    }}\n",
    "\"\"\"\n",
    "qres = rdf_graph.query(query5)\n",
    "results_dict = {\"CellID\":[], \"Organization\":[], \"Date\":[], \"ResearcherID\":[]}\n",
    "\n",
    "for hit in qres:\n",
    "        string_rep = [str(rdf_obj) for rdf_obj in hit]\n",
    "        results_dict[\"CellID\"].append(string_rep[0])\n",
    "        results_dict[\"Organization\"].append(string_rep[1])\n",
    "        results_dict[\"Date\"].append(string_rep[2])\n",
    "        results_dict[\"ResearcherID\"].append(string_rep[3])\n",
    "\n",
    "print(results_dict)\n",
    "\n"
   ]
  },
  {
   "cell_type": "code",
   "execution_count": 55,
   "metadata": {},
   "outputs": [
    {
     "ename": "AttributeError",
     "evalue": "module 'utils' has no attribute 'query_cell_by_organization'",
     "output_type": "error",
     "traceback": [
      "\u001b[1;31m---------------------------------------------------------------------------\u001b[0m",
      "\u001b[1;31mAttributeError\u001b[0m                            Traceback (most recent call last)",
      "Cell \u001b[1;32mIn[55], line 1\u001b[0m\n\u001b[1;32m----> 1\u001b[0m utils\u001b[39m.\u001b[39;49mquery_cell_by_organization(rdf_graph, ror\u001b[39m=\u001b[39m\u001b[39m\"\u001b[39m\u001b[39mhttps://ror.org/01f677e56\u001b[39m\u001b[39m\"\u001b[39m)\n",
      "\u001b[1;31mAttributeError\u001b[0m: module 'utils' has no attribute 'query_cell_by_organization'"
     ]
    }
   ],
   "source": [
    "utils.query_cell_by_organization(rdf_graph, ror=\"https://ror.org/01f677e56\")"
   ]
  }
 ],
 "metadata": {
  "kernelspec": {
   "display_name": "venv-ontoapps",
   "language": "python",
   "name": "python3"
  },
  "language_info": {
   "codemirror_mode": {
    "name": "ipython",
    "version": 3
   },
   "file_extension": ".py",
   "mimetype": "text/x-python",
   "name": "python",
   "nbconvert_exporter": "python",
   "pygments_lexer": "ipython3",
   "version": "3.10.6"
  },
  "orig_nbformat": 4
 },
 "nbformat": 4,
 "nbformat_minor": 2
}
